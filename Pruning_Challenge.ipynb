{
  "nbformat": 4,
  "nbformat_minor": 0,
  "metadata": {
    "colab": {
      "name": "Pruning_Challenge.ipynb",
      "provenance": [],
      "collapsed_sections": []
    },
    "kernelspec": {
      "name": "python3",
      "display_name": "Python 3"
    },
    "accelerator": "GPU"
  },
  "cells": [
    {
      "cell_type": "markdown",
      "metadata": {
        "id": "vnppKBALvnBk",
        "colab_type": "text"
      },
      "source": [
        "#Pruning Challenge\n",
        "\n"
      ]
    },
    {
      "cell_type": "markdown",
      "metadata": {
        "id": "BVbsTTb1AjJk",
        "colab_type": "text"
      },
      "source": [
        "###Importing required packages"
      ]
    },
    {
      "cell_type": "code",
      "metadata": {
        "id": "3O9BhR73Ywvg",
        "colab_type": "code",
        "colab": {}
      },
      "source": [
        "import tensorflow as tf \n",
        "tf.enable_eager_execution()\n",
        "\n",
        "import os\n",
        "import h5py\n",
        "import numpy as np\n",
        "import tempfile\n",
        "import zipfile\n",
        "import glob \n",
        "\n",
        "from shutil import move,copyfile\n",
        "from numpy import linalg\n",
        "from scipy.stats import rankdata"
      ],
      "execution_count": 0,
      "outputs": []
    },
    {
      "cell_type": "markdown",
      "metadata": {
        "id": "8efjlF1Jf7hs",
        "colab_type": "text"
      },
      "source": [
        "###Data Preprocessing \n",
        "In the following step I downloaded the MNIST dataset and reshaped it appropriately to obtain the training and test sets.The MNIST dataset consists of 70,000 grayscale images each 28 X 28 pixels in dimension,belonging to 10 classes and already contains a train-test split.I also normalized the pixel values and verified the final shape of the training and test matrices."
      ]
    },
    {
      "cell_type": "code",
      "metadata": {
        "id": "dB5pUH0AhJ0o",
        "colab_type": "code",
        "outputId": "99000c4b-9701-453c-a457-7e6a9bf28e05",
        "colab": {
          "base_uri": "https://localhost:8080/",
          "height": 102
        }
      },
      "source": [
        "#loading the MNIST dataset\n",
        "(x_train,y_train), (x_test,y_test) = tf.keras.datasets.mnist.load_data()\n",
        "\n",
        "#input image dimensions\n",
        "rows, cols = 28, 28\n",
        "\n",
        "#number of output classes\n",
        "num_classes = 10\n",
        "\n",
        "#data preprocessing\n",
        "x_train = x_train.reshape(x_train.shape[0],rows*cols)\n",
        "x_test = x_test.reshape(x_test.shape[0],rows*cols)\n",
        "input_shape = (rows*cols, )\n",
        "\n",
        "#normalizing the pixel valus\n",
        "x_train = x_train.astype('float32')\n",
        "x_test = x_test.astype('float32')\n",
        "x_train /= 255\n",
        "x_test /= 255\n",
        "print('x_train shape :', x_train.shape)\n",
        "print(x_train.shape[0], 'training examples')\n",
        "print(x_test.shape[0], 'test examples')\n",
        "\n",
        "#converting class labels to binary class matrices\n",
        "y_train = tf.keras.utils.to_categorical(y_train,num_classes)\n",
        "y_test = tf.keras.utils.to_categorical(y_test,num_classes)\n",
        "\n",
        "\n"
      ],
      "execution_count": 0,
      "outputs": [
        {
          "output_type": "stream",
          "text": [
            "Downloading data from https://storage.googleapis.com/tensorflow/tf-keras-datasets/mnist.npz\n",
            "11493376/11490434 [==============================] - 0s 0us/step\n",
            "x_train shape : (60000, 784)\n",
            "60000 training examples\n",
            "10000 test examples\n"
          ],
          "name": "stdout"
        }
      ]
    },
    {
      "cell_type": "markdown",
      "metadata": {
        "id": "o47Kz8svsY-6",
        "colab_type": "text"
      },
      "source": [
        "###Building the model\n",
        "I used Keras to build the desired neural network model as shown below.It consists of 4 hidden ReLU activated layers and a final softmax layer having 10 outputs."
      ]
    },
    {
      "cell_type": "code",
      "metadata": {
        "id": "MzquRl9CseFF",
        "colab_type": "code",
        "outputId": "c68a0c39-2600-42ac-d1a1-b9cdf21b404d",
        "colab": {
          "base_uri": "https://localhost:8080/",
          "height": 323
        }
      },
      "source": [
        "tf.reset_default_graph()\n",
        "\n",
        "model = tf.keras.Sequential([\n",
        "    tf.keras.layers.Dense(1000, input_shape=input_shape),\n",
        "    tf.keras.layers.Dense(1000, activation='relu'),\n",
        "    tf.keras.layers.Dense(500, activation='relu'),\n",
        "    tf.keras.layers.Dense(200, activation='relu'),\n",
        "    tf.keras.layers.Dense(num_classes, activation='softmax')\n",
        "    ])\n",
        "\n",
        "model.summary()"
      ],
      "execution_count": 0,
      "outputs": [
        {
          "output_type": "stream",
          "text": [
            "Model: \"sequential\"\n",
            "_________________________________________________________________\n",
            "Layer (type)                 Output Shape              Param #   \n",
            "=================================================================\n",
            "dense (Dense)                (None, 1000)              785000    \n",
            "_________________________________________________________________\n",
            "dense_1 (Dense)              (None, 1000)              1001000   \n",
            "_________________________________________________________________\n",
            "dense_2 (Dense)              (None, 500)               500500    \n",
            "_________________________________________________________________\n",
            "dense_3 (Dense)              (None, 200)               100200    \n",
            "_________________________________________________________________\n",
            "dense_4 (Dense)              (None, 10)                2010      \n",
            "=================================================================\n",
            "Total params: 2,388,710\n",
            "Trainable params: 2,388,710\n",
            "Non-trainable params: 0\n",
            "_________________________________________________________________\n"
          ],
          "name": "stdout"
        }
      ]
    },
    {
      "cell_type": "markdown",
      "metadata": {
        "id": "olVDIpJUwblE",
        "colab_type": "text"
      },
      "source": [
        "###Training and Evaluation\n",
        "I trained the model for 20 epochs, using a batch size of 128.I used the **adam** optmizer and **categorical crossentropy** as the evaluation metric.\n",
        "After training, I obtained the test loss and test accuracy by evaluating the model on the test set."
      ]
    },
    {
      "cell_type": "code",
      "metadata": {
        "id": "4XSkjigewiqE",
        "colab_type": "code",
        "outputId": "2f63ae0b-6c80-4de0-ba6d-48414c1f4c75",
        "colab": {
          "base_uri": "https://localhost:8080/",
          "height": 1000
        }
      },
      "source": [
        "model.compile(\n",
        "    loss=tf.keras.losses.categorical_crossentropy,\n",
        "    optimizer='adam',\n",
        "    metrics=['accuracy']\n",
        ")\n",
        "\n",
        "model.fit(x_train,y_train,\n",
        "          batch_size=128,\n",
        "          verbose=1,\n",
        "          epochs=20,\n",
        "          validation_data=(x_test,y_test))\n",
        "\n",
        "score = model.evaluate(x_test,y_test,verbose=0)\n",
        "\n",
        "print('Test loss :', score[0])\n",
        "print('Test accuracy :', score[1])"
      ],
      "execution_count": 0,
      "outputs": [
        {
          "output_type": "stream",
          "text": [
            "Train on 60000 samples, validate on 10000 samples\n",
            "WARNING:tensorflow:From /usr/local/lib/python3.6/dist-packages/tensorflow/python/ops/math_grad.py:1250: add_dispatch_support.<locals>.wrapper (from tensorflow.python.ops.array_ops) is deprecated and will be removed in a future version.\n",
            "Instructions for updating:\n",
            "Use tf.where in 2.0, which has the same broadcast rule as np.where\n",
            "Epoch 1/20\n",
            "60000/60000 [==============================] - 5s 83us/sample - loss: 0.2168 - acc: 0.9334 - val_loss: 0.1137 - val_acc: 0.9656\n",
            "Epoch 2/20\n",
            "60000/60000 [==============================] - 4s 62us/sample - loss: 0.1086 - acc: 0.9660 - val_loss: 0.1030 - val_acc: 0.9694\n",
            "Epoch 3/20\n",
            "60000/60000 [==============================] - 4s 64us/sample - loss: 0.0839 - acc: 0.9746 - val_loss: 0.0882 - val_acc: 0.9719\n",
            "Epoch 4/20\n",
            "60000/60000 [==============================] - 4s 65us/sample - loss: 0.0616 - acc: 0.9815 - val_loss: 0.0929 - val_acc: 0.9720\n",
            "Epoch 5/20\n",
            "60000/60000 [==============================] - 4s 63us/sample - loss: 0.0638 - acc: 0.9804 - val_loss: 0.0861 - val_acc: 0.9757\n",
            "Epoch 6/20\n",
            "60000/60000 [==============================] - 4s 63us/sample - loss: 0.0525 - acc: 0.9833 - val_loss: 0.0948 - val_acc: 0.9733\n",
            "Epoch 7/20\n",
            "60000/60000 [==============================] - 4s 62us/sample - loss: 0.0451 - acc: 0.9856 - val_loss: 0.0756 - val_acc: 0.9793\n",
            "Epoch 8/20\n",
            "60000/60000 [==============================] - 4s 63us/sample - loss: 0.0442 - acc: 0.9864 - val_loss: 0.1013 - val_acc: 0.9765\n",
            "Epoch 9/20\n",
            "60000/60000 [==============================] - 4s 63us/sample - loss: 0.0375 - acc: 0.9885 - val_loss: 0.0966 - val_acc: 0.9731\n",
            "Epoch 10/20\n",
            "60000/60000 [==============================] - 4s 63us/sample - loss: 0.0365 - acc: 0.9890 - val_loss: 0.0843 - val_acc: 0.9788\n",
            "Epoch 11/20\n",
            "60000/60000 [==============================] - 4s 62us/sample - loss: 0.0341 - acc: 0.9899 - val_loss: 0.0910 - val_acc: 0.9775\n",
            "Epoch 12/20\n",
            "60000/60000 [==============================] - 4s 62us/sample - loss: 0.0345 - acc: 0.9900 - val_loss: 0.1138 - val_acc: 0.9732\n",
            "Epoch 13/20\n",
            "60000/60000 [==============================] - 4s 62us/sample - loss: 0.0317 - acc: 0.9902 - val_loss: 0.0850 - val_acc: 0.9800\n",
            "Epoch 14/20\n",
            "60000/60000 [==============================] - 4s 64us/sample - loss: 0.0299 - acc: 0.9917 - val_loss: 0.0886 - val_acc: 0.9790\n",
            "Epoch 15/20\n",
            "60000/60000 [==============================] - 4s 63us/sample - loss: 0.0262 - acc: 0.9921 - val_loss: 0.1148 - val_acc: 0.9753\n",
            "Epoch 16/20\n",
            "60000/60000 [==============================] - 4s 63us/sample - loss: 0.0282 - acc: 0.9914 - val_loss: 0.1149 - val_acc: 0.9767\n",
            "Epoch 17/20\n",
            "60000/60000 [==============================] - 4s 63us/sample - loss: 0.0256 - acc: 0.9928 - val_loss: 0.1227 - val_acc: 0.9734\n",
            "Epoch 18/20\n",
            "60000/60000 [==============================] - 4s 64us/sample - loss: 0.0306 - acc: 0.9911 - val_loss: 0.0908 - val_acc: 0.9790\n",
            "Epoch 19/20\n",
            "60000/60000 [==============================] - 4s 64us/sample - loss: 0.0245 - acc: 0.9928 - val_loss: 0.0899 - val_acc: 0.9809\n",
            "Epoch 20/20\n",
            "60000/60000 [==============================] - 4s 65us/sample - loss: 0.0224 - acc: 0.9937 - val_loss: 0.1055 - val_acc: 0.9778\n",
            "Test loss : 0.10550259701452523\n",
            "Test accuracy : 0.9778\n"
          ],
          "name": "stdout"
        }
      ]
    },
    {
      "cell_type": "code",
      "metadata": {
        "id": "Ob5ugDDx0sna",
        "colab_type": "code",
        "colab": {}
      },
      "source": [
        "#save model\n",
        "_, model_file = tempfile.mkstemp('.h5')\n",
        "tf.keras.models.save_model(model,model_file,include_optimizer=False)\n"
      ],
      "execution_count": 0,
      "outputs": []
    },
    {
      "cell_type": "markdown",
      "metadata": {
        "id": "DV5Ar0RyMWD_",
        "colab_type": "text"
      },
      "source": [
        "##Weight Pruning\n",
        "To achieve sparsity of k% I ranked the individual weights in the weight matrix according to their magnitude (absolute value), and then set to zero the smallest k%."
      ]
    },
    {
      "cell_type": "code",
      "metadata": {
        "id": "Ny7RhtJHNNaJ",
        "colab_type": "code",
        "colab": {}
      },
      "source": [
        "for k in [.25, .50, .60, .70, .80, .90, .95, .97, .99]:\n",
        "  copyfile(model_file,\"/tmp/orig.h5\")\n",
        "  f=h5py.File(\"/tmp/orig.h5\",'r+')\n",
        "  ranks={}\n",
        "  for a in list(f['model_weights'])[:-1]:\n",
        "    info = f['model_weights'][a][a]['kernel:0']\n",
        "    x = np.array(info)\n",
        "    ranks[a]=(rankdata(np.abs(x),method='dense')-1).astype(int).reshape(x.shape)\n",
        "    lower_bound = np.ceil(np.max(ranks[a])*k).astype(int)\n",
        "    ranks[a][ranks[a]<=lower_bound] = 0\n",
        "    ranks[a][ranks[a]>lower_bound] = 1\n",
        "    x = x*ranks[a]\n",
        "    info[...]=x\n",
        "  f.close()\n",
        "  move(\"/tmp/orig.h5\",\"/tmp/weight_\"+str(k)+\".h5\")"
      ],
      "execution_count": 0,
      "outputs": []
    },
    {
      "cell_type": "markdown",
      "metadata": {
        "id": "H-Hd8zqmSSQc",
        "colab_type": "text"
      },
      "source": [
        "##Neuron/Unit Pruning\n",
        "To achieve sparsity of k% I ranked the columns of a weight matrix according to their L2-norm and set to zero the smallest k%."
      ]
    },
    {
      "cell_type": "code",
      "metadata": {
        "id": "6Ko99joYSH_d",
        "colab_type": "code",
        "colab": {}
      },
      "source": [
        "for k in [.25, .50, .60, .70, .80, .90, .95, .97, .99]:\n",
        "  copyfile(model_file,\"/tmp/orig.h5\")\n",
        "  f=h5py.File(\"/tmp/orig.h5\",'r+')\n",
        "  ranks={}\n",
        "  for a in list(f['model_weights'])[:-1]:\n",
        "    info = f['model_weights'][a][a]['kernel:0']\n",
        "    x = np.array(info)\n",
        "    norm = linalg.norm(x,axis=0)\n",
        "    norm = np.tile(norm,(x.shape[0],1))\n",
        "    ranks[a]=(rankdata(norm,method='dense')-1).astype(int).reshape(norm.shape)\n",
        "    lower_bound=np.ceil(np.max(ranks[a])*k).astype(int)\n",
        "    ranks[a][ranks[a]<=lower_bound] = 0\n",
        "    ranks[a][ranks[a]>lower_bound] = 1\n",
        "    x = x*ranks[a]\n",
        "    info[...]=x\n",
        "  f.close()\n",
        "  move(\"/tmp/orig.h5\",\"/tmp/neuron\"+str(k)+\".h5\")\n",
        "    "
      ],
      "execution_count": 0,
      "outputs": []
    },
    {
      "cell_type": "markdown",
      "metadata": {
        "id": "IqTTbCkXrTK9",
        "colab_type": "text"
      },
      "source": [
        "##Calculating accuracy for each value of sparsity \n",
        "For each value of k% sparsity,I calculted the accuracy and stored them in two lists,one for weight pruned models and the other for neuron/unit pruned models."
      ]
    },
    {
      "cell_type": "code",
      "metadata": {
        "id": "v77esHxtTinK",
        "colab_type": "code",
        "colab": {}
      },
      "source": [
        "files_weights=glob.glob('/tmp/weight*.h5')\n",
        "files_weights.sort()\n",
        "files_neurons=glob.glob('/tmp/neuron*.h5')\n",
        "files_neurons.sort()\n",
        "\n",
        "accuracy_weights=[]\n",
        "accuracy_neurons=[]\n",
        "\n",
        "for f in files_weights:\n",
        "  restored_model = tf.keras.models.load_model(f,compile=False)\n",
        "  restored_model.compile(\n",
        "      loss=tf.keras.losses.categorical_crossentropy,\n",
        "      optimizer='adam',\n",
        "      metrics=['accuracy'])\n",
        "  score=restored_model.evaluate(x_test,y_test,verbose=0)\n",
        "  g=h5py.File(f)\n",
        "  params=0\n",
        "  accuracy_weights.append(score[1])\n",
        "  \n",
        "for f in files_neurons:\n",
        "  restored_model = tf.keras.models.load_model(f,compile=False)\n",
        "  restored_model.compile(\n",
        "      loss=tf.keras.losses.categorical_crossentropy,\n",
        "      optimizer='adam',\n",
        "      metrics=['accuracy'])\n",
        "  score=restored_model.evaluate(x_test,y_test,verbose=0)\n",
        "  g=h5py.File(f)\n",
        "  params=0\n",
        "  accuracy_neurons.append(score[1])\n",
        "  \n",
        "  "
      ],
      "execution_count": 0,
      "outputs": []
    },
    {
      "cell_type": "markdown",
      "metadata": {
        "id": "ZfJx1aBlruT-",
        "colab_type": "text"
      },
      "source": [
        "##Visualization"
      ]
    },
    {
      "cell_type": "code",
      "metadata": {
        "id": "opt2mLyJrI-S",
        "colab_type": "code",
        "outputId": "808a1d10-e830-4b31-ce67-12dec264ee7b",
        "colab": {
          "base_uri": "https://localhost:8080/",
          "height": 313
        }
      },
      "source": [
        "import matplotlib.pyplot as plt\n",
        "import matplotlib.patches as matpatches\n",
        "plt.rcParams['figure.constrained_layout.use']=True\n",
        "plt.xlabel('% sparsity')\n",
        "plt.ylabel('% accuracy')\n",
        "green_patch=matpatches.Patch(color='green',label='Weight Pruning')\n",
        "blue_patch=matpatches.Patch(color='blue',label='Neuron Pruning')\n",
        "plt.legend(handles=[green_patch,blue_patch],loc='upper right')\n",
        "plt.plot([0, .25, .50, .60, .70, .80, .90, .97, .99],accuracy_weights,color='green')\n",
        "plt.plot([0, .25, .50, .60, .70, .80, .90, .97, .99],accuracy_neurons,color='blue')\n",
        "plt.show()"
      ],
      "execution_count": 0,
      "outputs": [
        {
          "output_type": "display_data",
          "data": {
            "image/png": "[encoded data removed]",
            "text/plain": [
              "<Figure size 432x288 with 1 Axes>"
            ]
          },
          "metadata": {
            "tags": []
          }
        }
      ]
    },
    {
      "cell_type": "markdown",
      "metadata": {
        "id": "Sx3ygOqi50BN",
        "colab_type": "text"
      },
      "source": [
        "#Analysis\n",
        "\n",
        "From the above graph we can see that the acccuracy remains largely\n",
        "unchanged upto about 50% sparsity in both cases of weight as well as neuron pruning.This indicates a possibility that the baseline model is severely over-parameterized at the outset.Some of the weights(in the case of weight pruning) and neurons(in the case of neuron pruning) are redundant and capture similar information and hence their removal doesn't affect accuracy to a large extent.Also the magnitude(L1-norm in the case of weight pruning and L2-norm in the case of neuron pruning) of some of these weights or neurons is very low,and thus the changes that occur to these weights or neurons during the optimization process(i.e the gradients that are calculated during back-propagation which are used to adjust the initial weights) become insignificant as their magnitude is even lower.Thus, these weights or neurons affect the output only to a very small extent.Hence, their removal leads to only a small drop in accuracy.\n",
        "\n",
        "A large drop in accuracy is seen at about 60% sparsity in the case of neuron pruning while in the case of weight pruning accuracy is almost constant up until 80% sparsity after which a large drop in accuracy occurs.This may be due to the fact that in the case of neuron pruning,we rank the nerons in order of their L2-norm and set to zero the smallest k%.\n",
        "In some of these neurons with small L2-norms,weights capturing essential or important features might have been present, but a small L2-norm would have been obtained as a result of a majority of other weights in the neuron having low values.The probability of such a scenario increases as we increase the percentage sparsity.Weight pruning on the other hand is more targeted in the sense that it ranks individual weights and not a set of weights.Hence only those weights which are non-essential are zeroed out.Thus,a fall in accuracy occurs early(lower percentage sparsity) in the case of neuro pruning while it occurs later in the case of weight pruning.\n",
        "\n",
        "After about 90% sparsity the accuracy of both weight pruned and neuron pruned models drops to very low values as weights or neurons capturing vital information have been set to zero.\n",
        "\n",
        "\n",
        "\n",
        "\n"
      ]
    }
  ]
}